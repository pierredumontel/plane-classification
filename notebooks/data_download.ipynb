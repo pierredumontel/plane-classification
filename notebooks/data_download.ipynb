{
  "nbformat": 4,
  "nbformat_minor": 0,
  "metadata": {
    "colab": {
      "name": "data_download.ipynb",
      "provenance": [],
      "authorship_tag": "ABX9TyOz8Jmr4UFEzEKh4E4rR3ON",
      "include_colab_link": true
    },
    "kernelspec": {
      "name": "python3",
      "display_name": "Python 3"
    },
    "language_info": {
      "name": "python"
    }
  },
  "cells": [
    {
      "cell_type": "markdown",
      "metadata": {
        "id": "view-in-github",
        "colab_type": "text"
      },
      "source": [
        "<a href=\"https://colab.research.google.com/github/pierredumontel/plane-classification/blob/main/notebooks/data_download.ipynb\" target=\"_parent\"><img src=\"https://colab.research.google.com/assets/colab-badge.svg\" alt=\"Open In Colab\"/></a>"
      ]
    },
    {
      "cell_type": "markdown",
      "source": [
        "# Download data"
      ],
      "metadata": {
        "id": "kOFlgw83ADcy"
      }
    },
    {
      "cell_type": "code",
      "execution_count": 1,
      "metadata": {
        "colab": {
          "base_uri": "https://localhost:8080/"
        },
        "id": "31JpOIBD6fAp",
        "outputId": "7a1272e9-80b1-4abc-807a-94351b735a51"
      },
      "outputs": [
        {
          "output_type": "stream",
          "name": "stdout",
          "text": [
            "  % Total    % Received % Xferd  Average Speed   Time    Time     Time  Current\n",
            "                                 Dload  Upload   Total   Spent    Left  Speed\n",
            "100 2625M  100 2625M    0     0  8807k      0  0:05:05  0:05:05 --:--:-- 5442k\n"
          ]
        }
      ],
      "source": [
        "#curl : download data and save to file \n",
        "!curl -O https://www.robots.ox.ac.uk/~vgg/data/fgvc-aircraft/archives/fgvc-aircraft-2013b.tar.gz"
      ]
    },
    {
      "cell_type": "code",
      "source": [
        "#Files tar \n",
        "#commandes : \n",
        "# x :extraire\n",
        "# z : le fichier est compressé \n",
        "# t: lister les fichiers sans décompresser \n",
        "# v : pour avoir du détail (verbose)\n",
        "# c : pour créer un tarfile \n",
        "# f : pour indiquer le nom du fichier (en dernier dans la liste)\n",
        "\n",
        "#Exemple pour lister les fichiers avant de décompresser \n",
        "!tar ztvf fgvc-aircraft-2013b.tar.gz"
      ],
      "metadata": {
        "id": "lbd6zN3i7O0e"
      },
      "execution_count": null,
      "outputs": []
    },
    {
      "cell_type": "markdown",
      "source": [
        "# Untar file"
      ],
      "metadata": {
        "id": "D9R4Rr-hAHJR"
      }
    },
    {
      "cell_type": "code",
      "source": [
        "!tar zxf fgvc-aircraft-2013b.tar.gz"
      ],
      "metadata": {
        "id": "RGwmDbyN-lbA"
      },
      "execution_count": 3,
      "outputs": []
    },
    {
      "cell_type": "code",
      "source": [
        ""
      ],
      "metadata": {
        "id": "g5ZprKX__VgS"
      },
      "execution_count": null,
      "outputs": []
    }
  ]
}