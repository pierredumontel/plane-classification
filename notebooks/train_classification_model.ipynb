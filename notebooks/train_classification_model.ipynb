{
  "nbformat": 4,
  "nbformat_minor": 0,
  "metadata": {
    "colab": {
      "name": "train_classification_model.ipynb",
      "provenance": [],
      "collapsed_sections": [],
      "authorship_tag": "ABX9TyPTtupd7IJxSa6dI9/D5e0n",
      "include_colab_link": true
    },
    "kernelspec": {
      "name": "python3",
      "display_name": "Python 3"
    },
    "language_info": {
      "name": "python"
    }
  },
  "cells": [
    {
      "cell_type": "markdown",
      "metadata": {
        "id": "view-in-github",
        "colab_type": "text"
      },
      "source": [
        "<a href=\"https://colab.research.google.com/github/pierredumontel/plane-classification/blob/main/notebooks/train_classification_model.ipynb\" target=\"_parent\"><img src=\"https://colab.research.google.com/assets/colab-badge.svg\" alt=\"Open In Colab\"/></a>"
      ]
    },
    {
      "cell_type": "code",
      "execution_count": 7,
      "metadata": {
        "colab": {
          "base_uri": "https://localhost:8080/"
        },
        "id": "-uJ8uTyQeOrs",
        "outputId": "9848feca-8d52-4fb1-83b0-09e7c32d0475"
      },
      "outputs": [
        {
          "output_type": "stream",
          "name": "stdout",
          "text": [
            "  % Total    % Received % Xferd  Average Speed   Time    Time     Time  Current\n",
            "                                 Dload  Upload   Total   Spent    Left  Speed\n",
            "100 2625M  100 2625M    0     0  28.7M      0  0:01:31  0:01:31 --:--:-- 29.2M\n"
          ]
        }
      ],
      "source": [
        "!curl -O https://www.robots.ox.ac.uk/~vgg/data/fgvc-aircraft/archives/fgvc-aircraft-2013b.tar.gz\n",
        "!tar zxf fgvc-aircraft-2013b.tar.gz\n",
        "!mv fgvc-aircraft-2013b dataset "
      ]
    },
    {
      "cell_type": "code",
      "source": [
        "import pathlib\n",
        "\n",
        "import pandas as pd "
      ],
      "metadata": {
        "id": "KhR21y5DePbH"
      },
      "execution_count": 8,
      "outputs": []
    },
    {
      "cell_type": "code",
      "source": [
        "pd.__version__"
      ],
      "metadata": {
        "colab": {
          "base_uri": "https://localhost:8080/",
          "height": 35
        },
        "id": "ZDo7Zx0kekcP",
        "outputId": "4e6239bc-8cfd-467e-98bc-f4420f31e429"
      },
      "execution_count": 9,
      "outputs": [
        {
          "output_type": "execute_result",
          "data": {
            "application/vnd.google.colaboratory.intrinsic+json": {
              "type": "string"
            },
            "text/plain": [
              "'1.3.5'"
            ]
          },
          "metadata": {},
          "execution_count": 9
        }
      ]
    },
    {
      "cell_type": "code",
      "source": [
        "DATA_DIR = pathlib.Path('dataset/data')"
      ],
      "metadata": {
        "id": "hNzZ_OVWeVkE"
      },
      "execution_count": 10,
      "outputs": []
    },
    {
      "cell_type": "markdown",
      "source": [
        "### Make assumptions about number of spaces (here=2)"
      ],
      "metadata": {
        "id": "-FPKx20IlC2T"
      }
    },
    {
      "cell_type": "code",
      "source": [
        "manufacturer_df = pd.read_csv(DATA_DIR / 'images_manufacturer_train.txt',sep=' ',\n",
        "            names=['image_id','m1','m2'],\n",
        "            usecols=['image_id','m1','m2'],#usecols for v1.4 compatibility\n",
        "            dtype={'image_id':str}) #ids are not int but string \n",
        "manufacturer_df['manufacturer']=manufacturer_df['m1']+' '+manufacturer_df['m2']\n",
        "manufacturer_df['manufacturer'].unique()"
      ],
      "metadata": {
        "colab": {
          "base_uri": "https://localhost:8080/"
        },
        "id": "wzQuyfYGeYsf",
        "outputId": "702d49e2-82fa-48f8-8c59-e38908b6173e"
      },
      "execution_count": 20,
      "outputs": [
        {
          "output_type": "execute_result",
          "data": {
            "text/plain": [
              "array([nan, 'British Aerospace', 'Lockheed Corporation',\n",
              "       'Douglas Aircraft', 'McDonnell Douglas', 'de Havilland',\n",
              "       'Lockheed Martin', 'Dassault Aviation', 'Bombardier Aerospace',\n",
              "       'Gulfstream Aerospace', 'Cirrus Aircraft'], dtype=object)"
            ]
          },
          "metadata": {},
          "execution_count": 20
        }
      ]
    },
    {
      "cell_type": "code",
      "source": [
        "! grep ',' dataset/data/images_manufacturer_train.txt"
      ],
      "metadata": {
        "id": "l7uHWg2DobuI"
      },
      "execution_count": 28,
      "outputs": []
    },
    {
      "cell_type": "code",
      "source": [
        "#Recherche le caractère T dans le fichier et n'affiche que trois lignes (head -3)\n",
        "! grep 'T' dataset/data/images_manufacturer_train.txt | head -3"
      ],
      "metadata": {
        "colab": {
          "base_uri": "https://localhost:8080/"
        },
        "id": "4XxBqOT0o5F3",
        "outputId": "45e3eb10-ea80-495f-f5e5-818379557fab"
      },
      "execution_count": 31,
      "outputs": [
        {
          "output_type": "stream",
          "name": "stdout",
          "text": [
            "0724121 ATR\n",
            "0619697 ATR\n",
            "2243949 ATR\n"
          ]
        }
      ]
    },
    {
      "cell_type": "code",
      "source": [
        "#wc : Compte le nombre d'élements (-l : ligne, -c : caractère, -w : word)\n",
        "! grep 'T' dataset/data/images_manufacturer_train.txt | wc "
      ],
      "metadata": {
        "colab": {
          "base_uri": "https://localhost:8080/"
        },
        "id": "7vx44TBNpSyn",
        "outputId": "feb22fee-73f3-41b1-84f6-4c462e800d8e"
      },
      "execution_count": 37,
      "outputs": [
        {
          "output_type": "stream",
          "name": "stdout",
          "text": [
            "    132     264    1848\n"
          ]
        }
      ]
    },
    {
      "cell_type": "code",
      "source": [
        "!cut -f 1 -d' ' dataset/data/images_manufacturer_train.txt | head"
      ],
      "metadata": {
        "colab": {
          "base_uri": "https://localhost:8080/"
        },
        "id": "kvsBg2wzqKAS",
        "outputId": "e473eb98-2754-4a9d-c1b5-46faa5314afc"
      },
      "execution_count": 38,
      "outputs": [
        {
          "output_type": "stream",
          "name": "stdout",
          "text": [
            "1025794\n",
            "1340192\n",
            "0056978\n",
            "0698580\n",
            "0450014\n",
            "1042824\n",
            "0894380\n",
            "1427680\n",
            "0817494\n",
            "0716386\n"
          ]
        }
      ]
    },
    {
      "cell_type": "code",
      "source": [
        "manufacturer_df = pd.read_csv(DATA_DIR / 'images_manufacturer_train.txt',sep='\\t',\n",
        "            names=['all'],\n",
        "            dtype={'all':str}) #ids are not int but string \n",
        "\n",
        "\n",
        "#La fonction split() découpe sur une chaîne de caractères \n",
        "manufacturer_df['image_id'] = manufacturer_df['all'].apply(lambda x:x.split(' ')[0])  \n",
        "\n",
        "#La fonction '<car>'.join(liste) concatène les éléments de liste en utillisant le séparateur <car>\n",
        "manufacturer_df['manufacturer']=manufacturer_df['all'].apply(lambda x:' '.join(x.split(' ')[1:])) \n",
        "manufacturer_df['manufacturer'].unique()"
      ],
      "metadata": {
        "colab": {
          "base_uri": "https://localhost:8080/"
        },
        "id": "9uZKuFqglhV3",
        "outputId": "8cbb6131-2535-48cf-d134-8d13b5ab3ca4"
      },
      "execution_count": 25,
      "outputs": [
        {
          "output_type": "execute_result",
          "data": {
            "text/plain": [
              "array(['Boeing', 'Airbus', 'ATR', 'Antonov', 'British Aerospace',\n",
              "       'Beechcraft', 'Lockheed Corporation', 'Douglas Aircraft Company',\n",
              "       'Canadair', 'Cessna', 'McDonnell Douglas', 'de Havilland', 'Robin',\n",
              "       'Dornier', 'Embraer', 'Eurofighter', 'Lockheed Martin',\n",
              "       'Dassault Aviation', 'Fokker', 'Bombardier Aerospace',\n",
              "       'Gulfstream Aerospace', 'Ilyushin', 'Fairchild', 'Piper',\n",
              "       'Cirrus Aircraft', 'Saab', 'Supermarine', 'Panavia', 'Tupolev',\n",
              "       'Yakovlev'], dtype=object)"
            ]
          },
          "metadata": {},
          "execution_count": 25
        }
      ]
    },
    {
      "cell_type": "markdown",
      "source": [
        "Verify data "
      ],
      "metadata": {
        "id": "1UARRuQxh_B0"
      }
    },
    {
      "cell_type": "code",
      "source": [
        "manufacturer_df['manufacturer'].value_counts(dropna=False)"
      ],
      "metadata": {
        "colab": {
          "base_uri": "https://localhost:8080/"
        },
        "id": "Lpv4gx_8ewt_",
        "outputId": "15dc2b28-b1f7-458d-fa4b-8da2482ad27f"
      },
      "execution_count": 14,
      "outputs": [
        {
          "output_type": "execute_result",
          "data": {
            "text/plain": [
              "Boeing         733\n",
              "Airbus         434\n",
              "Embraer        233\n",
              "McDonnell      232\n",
              "de             167\n",
              "Canadair       134\n",
              "Douglas        133\n",
              "Cessna         133\n",
              "British        133\n",
              "Lockheed       102\n",
              "Fokker         100\n",
              "Dassault        67\n",
              "Gulfstream      67\n",
              "Beechcraft      67\n",
              "Saab            67\n",
              "Tupolev         66\n",
              "ATR             66\n",
              "Panavia         34\n",
              "Antonov         34\n",
              "Dornier         34\n",
              "Yakovlev        34\n",
              "Bombardier      33\n",
              "Ilyushin        33\n",
              "Fairchild       33\n",
              "Piper           33\n",
              "Cirrus          33\n",
              "Eurofighter     33\n",
              "Supermarine     33\n",
              "Robin           33\n",
              "Name: manufacturer, dtype: int64"
            ]
          },
          "metadata": {},
          "execution_count": 14
        }
      ]
    },
    {
      "cell_type": "markdown",
      "source": [
        "Verify missing data"
      ],
      "metadata": {
        "id": "63Ze9CM9iC6f"
      }
    },
    {
      "cell_type": "code",
      "source": [
        "manufacturer_df.isna().sum()"
      ],
      "metadata": {
        "colab": {
          "base_uri": "https://localhost:8080/"
        },
        "id": "m50meUezhkRD",
        "outputId": "035dac5e-f558-47b4-c9e5-bfef814d189e"
      },
      "execution_count": 15,
      "outputs": [
        {
          "output_type": "execute_result",
          "data": {
            "text/plain": [
              "image_id        0\n",
              "manufacturer    0\n",
              "dtype: int64"
            ]
          },
          "metadata": {},
          "execution_count": 15
        }
      ]
    },
    {
      "cell_type": "code",
      "source": [
        "assert manufacturer_df['image_id'].isna().sum()==0,\"Missing value in image_id\"\n",
        "assert manufacturer_df['manufacturer'].isna().sum()==0,\"Missing value in manufacturer\""
      ],
      "metadata": {
        "id": "4bpDNnYmiIaI"
      },
      "execution_count": 18,
      "outputs": []
    },
    {
      "cell_type": "code",
      "source": [
        ""
      ],
      "metadata": {
        "id": "KCfnCd1liiJ4"
      },
      "execution_count": null,
      "outputs": []
    }
  ]
}